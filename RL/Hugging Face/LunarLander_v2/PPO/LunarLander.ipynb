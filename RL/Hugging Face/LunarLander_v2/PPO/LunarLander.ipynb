{
  "nbformat": 4,
  "nbformat_minor": 0,
  "metadata": {
    "colab": {
      "provenance": [],
      "gpuType": "T4",
      "authorship_tag": "ABX9TyP86e0NieuK5yS3Wcakpl6t",
      "include_colab_link": true
    },
    "kernelspec": {
      "name": "python3",
      "display_name": "Python 3"
    },
    "language_info": {
      "name": "python"
    },
    "accelerator": "GPU",
    "widgets": {
      "application/vnd.jupyter.widget-state+json": {
        "504e32f412684b08a470761a31e99320": {
          "model_module": "@jupyter-widgets/controls",
          "model_name": "HBoxModel",
          "model_module_version": "1.5.0",
          "state": {
            "_dom_classes": [],
            "_model_module": "@jupyter-widgets/controls",
            "_model_module_version": "1.5.0",
            "_model_name": "HBoxModel",
            "_view_count": null,
            "_view_module": "@jupyter-widgets/controls",
            "_view_module_version": "1.5.0",
            "_view_name": "HBoxView",
            "box_style": "",
            "children": [
              "IPY_MODEL_e2976873c264458abb9e3587a63cc4a3",
              "IPY_MODEL_29ba938196e84faab58922033a992a8c",
              "IPY_MODEL_c6148a8d1d704bba9b3ab926fbc878a1"
            ],
            "layout": "IPY_MODEL_4171b0f30bfe46128b41beba61af9ac9"
          }
        },
        "e2976873c264458abb9e3587a63cc4a3": {
          "model_module": "@jupyter-widgets/controls",
          "model_name": "HTMLModel",
          "model_module_version": "1.5.0",
          "state": {
            "_dom_classes": [],
            "_model_module": "@jupyter-widgets/controls",
            "_model_module_version": "1.5.0",
            "_model_name": "HTMLModel",
            "_view_count": null,
            "_view_module": "@jupyter-widgets/controls",
            "_view_module_version": "1.5.0",
            "_view_name": "HTMLView",
            "description": "",
            "description_tooltip": null,
            "layout": "IPY_MODEL_a86a76b22a7545f18d8cf5b219413585",
            "placeholder": "​",
            "style": "IPY_MODEL_41d941cc65a44419a636ddeeef5d1beb",
            "value": "ppo_lunar_lander_v2.zip: 100%"
          }
        },
        "29ba938196e84faab58922033a992a8c": {
          "model_module": "@jupyter-widgets/controls",
          "model_name": "FloatProgressModel",
          "model_module_version": "1.5.0",
          "state": {
            "_dom_classes": [],
            "_model_module": "@jupyter-widgets/controls",
            "_model_module_version": "1.5.0",
            "_model_name": "FloatProgressModel",
            "_view_count": null,
            "_view_module": "@jupyter-widgets/controls",
            "_view_module_version": "1.5.0",
            "_view_name": "ProgressView",
            "bar_style": "success",
            "description": "",
            "description_tooltip": null,
            "layout": "IPY_MODEL_135cb615e9ef4e788ddfcbc42f1b82fb",
            "max": 151625,
            "min": 0,
            "orientation": "horizontal",
            "style": "IPY_MODEL_9f50752d424640f3bf09dc1c08767a2e",
            "value": 151625
          }
        },
        "c6148a8d1d704bba9b3ab926fbc878a1": {
          "model_module": "@jupyter-widgets/controls",
          "model_name": "HTMLModel",
          "model_module_version": "1.5.0",
          "state": {
            "_dom_classes": [],
            "_model_module": "@jupyter-widgets/controls",
            "_model_module_version": "1.5.0",
            "_model_name": "HTMLModel",
            "_view_count": null,
            "_view_module": "@jupyter-widgets/controls",
            "_view_module_version": "1.5.0",
            "_view_name": "HTMLView",
            "description": "",
            "description_tooltip": null,
            "layout": "IPY_MODEL_298d385cef8c4f6e94bafe3c52073ff0",
            "placeholder": "​",
            "style": "IPY_MODEL_417e8c8ff07f4d90ad5760b0c0d0cc50",
            "value": " 152k/152k [00:00&lt;00:00, 493kB/s]"
          }
        },
        "4171b0f30bfe46128b41beba61af9ac9": {
          "model_module": "@jupyter-widgets/base",
          "model_name": "LayoutModel",
          "model_module_version": "1.2.0",
          "state": {
            "_model_module": "@jupyter-widgets/base",
            "_model_module_version": "1.2.0",
            "_model_name": "LayoutModel",
            "_view_count": null,
            "_view_module": "@jupyter-widgets/base",
            "_view_module_version": "1.2.0",
            "_view_name": "LayoutView",
            "align_content": null,
            "align_items": null,
            "align_self": null,
            "border": null,
            "bottom": null,
            "display": null,
            "flex": null,
            "flex_flow": null,
            "grid_area": null,
            "grid_auto_columns": null,
            "grid_auto_flow": null,
            "grid_auto_rows": null,
            "grid_column": null,
            "grid_gap": null,
            "grid_row": null,
            "grid_template_areas": null,
            "grid_template_columns": null,
            "grid_template_rows": null,
            "height": null,
            "justify_content": null,
            "justify_items": null,
            "left": null,
            "margin": null,
            "max_height": null,
            "max_width": null,
            "min_height": null,
            "min_width": null,
            "object_fit": null,
            "object_position": null,
            "order": null,
            "overflow": null,
            "overflow_x": null,
            "overflow_y": null,
            "padding": null,
            "right": null,
            "top": null,
            "visibility": null,
            "width": null
          }
        },
        "a86a76b22a7545f18d8cf5b219413585": {
          "model_module": "@jupyter-widgets/base",
          "model_name": "LayoutModel",
          "model_module_version": "1.2.0",
          "state": {
            "_model_module": "@jupyter-widgets/base",
            "_model_module_version": "1.2.0",
            "_model_name": "LayoutModel",
            "_view_count": null,
            "_view_module": "@jupyter-widgets/base",
            "_view_module_version": "1.2.0",
            "_view_name": "LayoutView",
            "align_content": null,
            "align_items": null,
            "align_self": null,
            "border": null,
            "bottom": null,
            "display": null,
            "flex": null,
            "flex_flow": null,
            "grid_area": null,
            "grid_auto_columns": null,
            "grid_auto_flow": null,
            "grid_auto_rows": null,
            "grid_column": null,
            "grid_gap": null,
            "grid_row": null,
            "grid_template_areas": null,
            "grid_template_columns": null,
            "grid_template_rows": null,
            "height": null,
            "justify_content": null,
            "justify_items": null,
            "left": null,
            "margin": null,
            "max_height": null,
            "max_width": null,
            "min_height": null,
            "min_width": null,
            "object_fit": null,
            "object_position": null,
            "order": null,
            "overflow": null,
            "overflow_x": null,
            "overflow_y": null,
            "padding": null,
            "right": null,
            "top": null,
            "visibility": null,
            "width": null
          }
        },
        "41d941cc65a44419a636ddeeef5d1beb": {
          "model_module": "@jupyter-widgets/controls",
          "model_name": "DescriptionStyleModel",
          "model_module_version": "1.5.0",
          "state": {
            "_model_module": "@jupyter-widgets/controls",
            "_model_module_version": "1.5.0",
            "_model_name": "DescriptionStyleModel",
            "_view_count": null,
            "_view_module": "@jupyter-widgets/base",
            "_view_module_version": "1.2.0",
            "_view_name": "StyleView",
            "description_width": ""
          }
        },
        "135cb615e9ef4e788ddfcbc42f1b82fb": {
          "model_module": "@jupyter-widgets/base",
          "model_name": "LayoutModel",
          "model_module_version": "1.2.0",
          "state": {
            "_model_module": "@jupyter-widgets/base",
            "_model_module_version": "1.2.0",
            "_model_name": "LayoutModel",
            "_view_count": null,
            "_view_module": "@jupyter-widgets/base",
            "_view_module_version": "1.2.0",
            "_view_name": "LayoutView",
            "align_content": null,
            "align_items": null,
            "align_self": null,
            "border": null,
            "bottom": null,
            "display": null,
            "flex": null,
            "flex_flow": null,
            "grid_area": null,
            "grid_auto_columns": null,
            "grid_auto_flow": null,
            "grid_auto_rows": null,
            "grid_column": null,
            "grid_gap": null,
            "grid_row": null,
            "grid_template_areas": null,
            "grid_template_columns": null,
            "grid_template_rows": null,
            "height": null,
            "justify_content": null,
            "justify_items": null,
            "left": null,
            "margin": null,
            "max_height": null,
            "max_width": null,
            "min_height": null,
            "min_width": null,
            "object_fit": null,
            "object_position": null,
            "order": null,
            "overflow": null,
            "overflow_x": null,
            "overflow_y": null,
            "padding": null,
            "right": null,
            "top": null,
            "visibility": null,
            "width": null
          }
        },
        "9f50752d424640f3bf09dc1c08767a2e": {
          "model_module": "@jupyter-widgets/controls",
          "model_name": "ProgressStyleModel",
          "model_module_version": "1.5.0",
          "state": {
            "_model_module": "@jupyter-widgets/controls",
            "_model_module_version": "1.5.0",
            "_model_name": "ProgressStyleModel",
            "_view_count": null,
            "_view_module": "@jupyter-widgets/base",
            "_view_module_version": "1.2.0",
            "_view_name": "StyleView",
            "bar_color": null,
            "description_width": ""
          }
        },
        "298d385cef8c4f6e94bafe3c52073ff0": {
          "model_module": "@jupyter-widgets/base",
          "model_name": "LayoutModel",
          "model_module_version": "1.2.0",
          "state": {
            "_model_module": "@jupyter-widgets/base",
            "_model_module_version": "1.2.0",
            "_model_name": "LayoutModel",
            "_view_count": null,
            "_view_module": "@jupyter-widgets/base",
            "_view_module_version": "1.2.0",
            "_view_name": "LayoutView",
            "align_content": null,
            "align_items": null,
            "align_self": null,
            "border": null,
            "bottom": null,
            "display": null,
            "flex": null,
            "flex_flow": null,
            "grid_area": null,
            "grid_auto_columns": null,
            "grid_auto_flow": null,
            "grid_auto_rows": null,
            "grid_column": null,
            "grid_gap": null,
            "grid_row": null,
            "grid_template_areas": null,
            "grid_template_columns": null,
            "grid_template_rows": null,
            "height": null,
            "justify_content": null,
            "justify_items": null,
            "left": null,
            "margin": null,
            "max_height": null,
            "max_width": null,
            "min_height": null,
            "min_width": null,
            "object_fit": null,
            "object_position": null,
            "order": null,
            "overflow": null,
            "overflow_x": null,
            "overflow_y": null,
            "padding": null,
            "right": null,
            "top": null,
            "visibility": null,
            "width": null
          }
        },
        "417e8c8ff07f4d90ad5760b0c0d0cc50": {
          "model_module": "@jupyter-widgets/controls",
          "model_name": "DescriptionStyleModel",
          "model_module_version": "1.5.0",
          "state": {
            "_model_module": "@jupyter-widgets/controls",
            "_model_module_version": "1.5.0",
            "_model_name": "DescriptionStyleModel",
            "_view_count": null,
            "_view_module": "@jupyter-widgets/base",
            "_view_module_version": "1.2.0",
            "_view_name": "StyleView",
            "description_width": ""
          }
        }
      }
    }
  },
  "cells": [
    {
      "cell_type": "markdown",
      "metadata": {
        "id": "view-in-github",
        "colab_type": "text"
      },
      "source": [
        "<a href=\"https://colab.research.google.com/github/dogukartal/ML-RoadMap/blob/main/RL/Hugging%20Face/LunarLander_v2/PPO/LunarLander.ipynb\" target=\"_parent\"><img src=\"https://colab.research.google.com/assets/colab-badge.svg\" alt=\"Open In Colab\"/></a>"
      ]
    },
    {
      "cell_type": "code",
      "execution_count": null,
      "metadata": {
        "collapsed": true,
        "id": "9ZgbxYailsX2"
      },
      "outputs": [],
      "source": [
        "!pip install stable-baselines3 swig pip install gymnasium[box2d] huggingface_sb3\n",
        "!sudo apt-get update\n",
        "!apt install python3-opengl\n",
        "!apt install ffmpeg\n",
        "!apt install xvfb\n",
        "!pip3 install pyvirtualdisplay"
      ]
    },
    {
      "cell_type": "code",
      "source": [
        "from pyvirtualdisplay import Display\n",
        "\n",
        "virtual_display = Display(visible=0, size=(1400, 900))\n",
        "virtual_display.start()"
      ],
      "metadata": {
        "id": "aIYbSttrm5vP"
      },
      "execution_count": null,
      "outputs": []
    },
    {
      "cell_type": "markdown",
      "source": [
        "- Action Space: *Discrete(4)*\n",
        "\n",
        "- Observation Space: *Box([-1.5 -1.5 -5. -5. -3.1415927 -5. -0. -0. ], [1.5 1.5 5. 5. 3.1415927 5. 1. 1. ], (8,), float32)*\n",
        "\n",
        "- Rewards: After every step a reward is granted. The total reward of an episode is the sum of the rewards for all the steps within that episode. For each step, the reward:\n",
        "\n",
        "  - is increased/decreased the closer/further the lander is to the landing pad.\n",
        "\n",
        "  - is increased/decreased the slower/faster the lander is moving.\n",
        "\n",
        "  - is decreased the more the lander is tilted (angle not horizontal).\n",
        "\n",
        "  - is increased by 10 points for each leg that is in contact with the ground.\n",
        "\n",
        "  - is decreased by 0.03 points each frame a side engine is firing.\n",
        "\n",
        "  - is decreased by 0.3 points each frame the main engine is firing.\n",
        "\n",
        "  - The episode receive an additional reward of -100 or +100 points for crashing or landing safely respectively.\n",
        "\n",
        "  - An episode is considered a solution if it scores at least 200 points.\n",
        "\n",
        "\n",
        "\n",
        "\n",
        "\n"
      ],
      "metadata": {
        "id": "PmbHuIkipwEJ"
      }
    },
    {
      "cell_type": "code",
      "source": [
        "import gymnasium as gym\n",
        "import numpy as np\n",
        "from stable_baselines3 import PPO\n",
        "from stable_baselines3.common.env_util import make_vec_env\n",
        "from stable_baselines3.common.evaluation import evaluate_policy\n",
        "from stable_baselines3.common.callbacks import EvalCallback\n",
        "from stable_baselines3.common.utils import set_random_seed\n",
        "from stable_baselines3.common.monitor import Monitor\n",
        "\n",
        "def make_env():\n",
        "    env = gym.make(\n",
        "        \"LunarLander-v2\",\n",
        "        continuous=True,\n",
        "        gravity=-10.0,\n",
        "        enable_wind=False,\n",
        "        wind_power=15.0,\n",
        "        turbulence_power=1.5,\n",
        "        render_mode=\"rgb_array\"\n",
        "    )\n",
        "    return Monitor(env)\n",
        "\n",
        "set_random_seed(0)\n",
        "\n",
        "vec_env = make_vec_env(make_env, n_envs=16, seed=0)\n",
        "\n",
        "model = PPO(\n",
        "    \"MlpPolicy\",\n",
        "    vec_env,\n",
        "    n_steps=1024,\n",
        "    batch_size=64,\n",
        "    n_epochs=10,\n",
        "    gamma=0.99,\n",
        "    gae_lambda=0.95,\n",
        "    clip_range=0.2,\n",
        "    ent_coef=0.01,\n",
        "    learning_rate=3e-4,\n",
        "    verbose=1,\n",
        "    tensorboard_log=\"./tensorboard_logs/\"\n",
        ")\n",
        "\n",
        "# Callbacks\n",
        "eval_env = make_vec_env(make_env, n_envs=5, seed=100)\n",
        "eval_callback = EvalCallback(\n",
        "    eval_env,\n",
        "    best_model_save_path=\"./best_model/\",\n",
        "    log_path=\"./logs/\",\n",
        "    eval_freq=10000,\n",
        "    deterministic=True,\n",
        "    render=False\n",
        ")\n",
        "\n",
        "model.learn(\n",
        "    total_timesteps=1000000,\n",
        "    callback=eval_callback,\n",
        "    progress_bar=True,\n",
        "    tb_log_name=\"PPO_run\",\n",
        "    reset_num_timesteps=False\n",
        ")\n",
        "\n",
        "model.save(\"ppo_lunar_lander_v2_final\")\n",
        "\n",
        "mean_reward, std_reward = evaluate_policy(model, model.get_env(), n_eval_episodes=10)\n",
        "print(f\"Mean reward = {mean_reward:.2f} +/- {std_reward:.2f}\")\n"
      ],
      "metadata": {
        "id": "urs8e9JG52AI"
      },
      "execution_count": null,
      "outputs": []
    },
    {
      "cell_type": "code",
      "source": [
        "from huggingface_hub import notebook_login\n",
        "\n",
        "notebook_login()\n",
        "!git config --global credential.helper store"
      ],
      "metadata": {
        "id": "WSDJGqgNPGZC"
      },
      "execution_count": null,
      "outputs": []
    },
    {
      "cell_type": "code",
      "source": [
        "model.load(\"ppo_lunar_lander_v2_final\")\n",
        "mean_reward, std_reward = evaluate_policy(model, model.get_env(), n_eval_episodes=10)\n",
        "print(f\"Mean reward = {mean_reward:.2f} +/- {std_reward:.2f}\")"
      ],
      "metadata": {
        "id": "ixu1mSW_Ry1r"
      },
      "execution_count": null,
      "outputs": []
    },
    {
      "cell_type": "code",
      "source": [
        "from huggingface_sb3 import package_to_hub\n",
        "from stable_baselines3.common.vec_env import DummyVecEnv\n",
        "\n",
        "model_name = \"ppo_lunar_lander_v2\"\n",
        "env_id = \"LunarLander-v2\"\n",
        "model_architecture = \"PPO\"\n",
        "repo_id = \"dogukankartal/ppo-LunarLander-v2\"\n",
        "commit_message = \"Upload PPO LunarLander-v2 trained agent\"\n",
        "eval_env = DummyVecEnv([lambda: Monitor(gym.make(env_id, render_mode=\"rgb_array\", continuous=True))])\n",
        "\n",
        "package_to_hub(\n",
        "    model=model,  # Our trained model\n",
        "    model_name=model_name,  # The name of our trained model\n",
        "    model_architecture=model_architecture,  # The model architecture we used: in our case PPO\n",
        "    env_id=env_id,  # Name of the environment\n",
        "    eval_env=eval_env,  # Evaluation Environment\n",
        "    repo_id=repo_id,  # id of the model repository from the Hugging Face Hub (repo_id = {organization}/{repo_name} for instance ThomasSimonini/ppo-LunarLander-v2\n",
        "    commit_message=commit_message,\n",
        ")"
      ],
      "metadata": {
        "colab": {
          "base_uri": "https://localhost:8080/",
          "height": 344,
          "referenced_widgets": [
            "504e32f412684b08a470761a31e99320",
            "e2976873c264458abb9e3587a63cc4a3",
            "29ba938196e84faab58922033a992a8c",
            "c6148a8d1d704bba9b3ab926fbc878a1",
            "4171b0f30bfe46128b41beba61af9ac9",
            "a86a76b22a7545f18d8cf5b219413585",
            "41d941cc65a44419a636ddeeef5d1beb",
            "135cb615e9ef4e788ddfcbc42f1b82fb",
            "9f50752d424640f3bf09dc1c08767a2e",
            "298d385cef8c4f6e94bafe3c52073ff0",
            "417e8c8ff07f4d90ad5760b0c0d0cc50"
          ]
        },
        "id": "dJZZFkAZP3zw",
        "outputId": "c07b381e-6c2e-4986-96d6-21b2a570f71e"
      },
      "execution_count": null,
      "outputs": [
        {
          "output_type": "stream",
          "name": "stdout",
          "text": [
            "\u001b[38;5;4mℹ This function will save, evaluate, generate a video of your agent,\n",
            "create a model card and push everything to the hub. It might take up to 1min.\n",
            "This is a work in progress: if you encounter a bug, please open an issue.\u001b[0m\n",
            "Saving video to /tmp/tmpu7qhdqu3/-step-0-to-step-1000.mp4\n",
            "Moviepy - Building video /tmp/tmpu7qhdqu3/-step-0-to-step-1000.mp4.\n",
            "Moviepy - Writing video /tmp/tmpu7qhdqu3/-step-0-to-step-1000.mp4\n",
            "\n"
          ]
        },
        {
          "output_type": "stream",
          "name": "stderr",
          "text": []
        },
        {
          "output_type": "stream",
          "name": "stdout",
          "text": [
            "Moviepy - Done !\n",
            "Moviepy - video ready /tmp/tmpu7qhdqu3/-step-0-to-step-1000.mp4\n",
            "\u001b[38;5;4mℹ Pushing repo dogukankartal/ppo-LunarLander-v2 to the Hugging Face\n",
            "Hub\u001b[0m\n"
          ]
        },
        {
          "output_type": "display_data",
          "data": {
            "text/plain": [
              "ppo_lunar_lander_v2.zip:   0%|          | 0.00/152k [00:00<?, ?B/s]"
            ],
            "application/vnd.jupyter.widget-view+json": {
              "version_major": 2,
              "version_minor": 0,
              "model_id": "504e32f412684b08a470761a31e99320"
            }
          },
          "metadata": {}
        },
        {
          "output_type": "stream",
          "name": "stdout",
          "text": [
            "\u001b[38;5;4mℹ Your model is pushed to the Hub. You can view your model here:\n",
            "https://huggingface.co/dogukankartal/ppo-LunarLander-v2/tree/main/\u001b[0m\n"
          ]
        },
        {
          "output_type": "execute_result",
          "data": {
            "text/plain": [
              "CommitInfo(commit_url='https://huggingface.co/dogukankartal/ppo-LunarLander-v2/commit/e8ad8d6d53673d0ffb8c3058777c1e2fd5d301f0', commit_message='Upload PPO LunarLander-v2 trained agent', commit_description='', oid='e8ad8d6d53673d0ffb8c3058777c1e2fd5d301f0', pr_url=None, pr_revision=None, pr_num=None)"
            ],
            "application/vnd.google.colaboratory.intrinsic+json": {
              "type": "string"
            }
          },
          "metadata": {},
          "execution_count": 21
        }
      ]
    },
    {
      "cell_type": "code",
      "source": [],
      "metadata": {
        "id": "zbYqiMe7Rrag"
      },
      "execution_count": null,
      "outputs": []
    }
  ]
}